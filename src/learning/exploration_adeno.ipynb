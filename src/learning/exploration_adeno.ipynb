{
 "cells": [
  {
   "cell_type": "code",
   "execution_count": 1,
   "metadata": {},
   "outputs": [],
   "source": [
    "import pandas as pd\n",
    "from sklearn import preprocessing\n",
    "from sklearn.preprocessing import LabelEncoder\n",
    "from sklearn.metrics import *\n",
    "import matplotlib.pyplot as plt\n",
    "import seaborn as sns\n",
    "import numpy as np\n",
    "from pylab import rcParams\n",
    "import copy\n",
    "\n",
    "import matplotlib\n",
    "from sklearn.metrics import RocCurveDisplay\n",
    "from sklearn.svm import SVC\n",
    "from sklearn.tree import DecisionTreeClassifier\n",
    "from sklearn.model_selection import train_test_split\n",
    "from sklearn.model_selection import cross_val_score\n",
    "from sklearn.neighbors import KNeighborsClassifier\n",
    "from sklearn import metrics\n",
    "from sklearn.model_selection import StratifiedKFold, GridSearchCV\n",
    "from sklearn.ensemble import RandomForestClassifier"
   ]
  },
  {
   "cell_type": "code",
   "execution_count": 47,
   "metadata": {},
   "outputs": [
    {
     "data": {
      "text/html": [
       "<div>\n",
       "<style scoped>\n",
       "    .dataframe tbody tr th:only-of-type {\n",
       "        vertical-align: middle;\n",
       "    }\n",
       "\n",
       "    .dataframe tbody tr th {\n",
       "        vertical-align: top;\n",
       "    }\n",
       "\n",
       "    .dataframe thead th {\n",
       "        text-align: right;\n",
       "    }\n",
       "</style>\n",
       "<table border=\"1\" class=\"dataframe\">\n",
       "  <thead>\n",
       "    <tr style=\"text-align: right;\">\n",
       "      <th></th>\n",
       "      <th>Unnamed: 0</th>\n",
       "      <th>Patient</th>\n",
       "      <th>Voxels</th>\n",
       "      <th>ADCmean</th>\n",
       "      <th>ADCvariance</th>\n",
       "      <th>ADCsd</th>\n",
       "      <th>ADCmedian</th>\n",
       "      <th>ADCskew</th>\n",
       "      <th>ADCkurt</th>\n",
       "      <th>ADC5p</th>\n",
       "      <th>...</th>\n",
       "      <th>SUV95p</th>\n",
       "      <th>Histologie</th>\n",
       "      <th>G</th>\n",
       "      <th>cT</th>\n",
       "      <th>cN</th>\n",
       "      <th>cM</th>\n",
       "      <th>pT</th>\n",
       "      <th>pN</th>\n",
       "      <th>pM</th>\n",
       "      <th>Stadium</th>\n",
       "    </tr>\n",
       "  </thead>\n",
       "  <tbody>\n",
       "    <tr>\n",
       "      <th>0</th>\n",
       "      <td>0</td>\n",
       "      <td>1</td>\n",
       "      <td>22043.0</td>\n",
       "      <td>1036.693281</td>\n",
       "      <td>103159.047102</td>\n",
       "      <td>321.183821</td>\n",
       "      <td>991.0</td>\n",
       "      <td>0.444463</td>\n",
       "      <td>1.458258</td>\n",
       "      <td>554.0</td>\n",
       "      <td>...</td>\n",
       "      <td>23.458490</td>\n",
       "      <td>Adenokarzinom</td>\n",
       "      <td>x</td>\n",
       "      <td>2b</td>\n",
       "      <td>2</td>\n",
       "      <td>1a</td>\n",
       "      <td>3</td>\n",
       "      <td>0</td>\n",
       "      <td>-</td>\n",
       "      <td>2B</td>\n",
       "    </tr>\n",
       "    <tr>\n",
       "      <th>1</th>\n",
       "      <td>1</td>\n",
       "      <td>11</td>\n",
       "      <td>21410.0</td>\n",
       "      <td>868.918169</td>\n",
       "      <td>201928.592930</td>\n",
       "      <td>449.364655</td>\n",
       "      <td>963.0</td>\n",
       "      <td>-0.100914</td>\n",
       "      <td>-0.485107</td>\n",
       "      <td>100.0</td>\n",
       "      <td>...</td>\n",
       "      <td>20.653860</td>\n",
       "      <td>Adenokarzinom</td>\n",
       "      <td>3</td>\n",
       "      <td>4</td>\n",
       "      <td>3</td>\n",
       "      <td>1c</td>\n",
       "      <td>-</td>\n",
       "      <td>-</td>\n",
       "      <td>-</td>\n",
       "      <td>4B</td>\n",
       "    </tr>\n",
       "    <tr>\n",
       "      <th>2</th>\n",
       "      <td>2</td>\n",
       "      <td>14</td>\n",
       "      <td>2012.0</td>\n",
       "      <td>842.284791</td>\n",
       "      <td>187625.303089</td>\n",
       "      <td>433.157365</td>\n",
       "      <td>894.5</td>\n",
       "      <td>-0.131017</td>\n",
       "      <td>-0.676121</td>\n",
       "      <td>96.0</td>\n",
       "      <td>...</td>\n",
       "      <td>8.332395</td>\n",
       "      <td>Adenokarzinom</td>\n",
       "      <td>3</td>\n",
       "      <td>1b</td>\n",
       "      <td>0</td>\n",
       "      <td>0</td>\n",
       "      <td>1b</td>\n",
       "      <td>0</td>\n",
       "      <td>0</td>\n",
       "      <td>1A</td>\n",
       "    </tr>\n",
       "    <tr>\n",
       "      <th>3</th>\n",
       "      <td>3</td>\n",
       "      <td>19</td>\n",
       "      <td>2823.0</td>\n",
       "      <td>538.541622</td>\n",
       "      <td>99829.517839</td>\n",
       "      <td>315.958095</td>\n",
       "      <td>527.0</td>\n",
       "      <td>0.240297</td>\n",
       "      <td>-0.775088</td>\n",
       "      <td>65.1</td>\n",
       "      <td>...</td>\n",
       "      <td>6.944930</td>\n",
       "      <td>Adenokarzinom</td>\n",
       "      <td>3</td>\n",
       "      <td>1c</td>\n",
       "      <td>1</td>\n",
       "      <td>0</td>\n",
       "      <td>1c</td>\n",
       "      <td>1</td>\n",
       "      <td>NaN</td>\n",
       "      <td>2B</td>\n",
       "    </tr>\n",
       "    <tr>\n",
       "      <th>4</th>\n",
       "      <td>4</td>\n",
       "      <td>2</td>\n",
       "      <td>285.0</td>\n",
       "      <td>1022.119298</td>\n",
       "      <td>120040.245417</td>\n",
       "      <td>346.468246</td>\n",
       "      <td>1085.0</td>\n",
       "      <td>-0.682781</td>\n",
       "      <td>0.021971</td>\n",
       "      <td>333.6</td>\n",
       "      <td>...</td>\n",
       "      <td>2.997654</td>\n",
       "      <td>Adenokarzinom</td>\n",
       "      <td>2</td>\n",
       "      <td>1b</td>\n",
       "      <td>1</td>\n",
       "      <td>0</td>\n",
       "      <td>1</td>\n",
       "      <td>0</td>\n",
       "      <td>-</td>\n",
       "      <td>1A</td>\n",
       "    </tr>\n",
       "  </tbody>\n",
       "</table>\n",
       "<p>5 rows × 28 columns</p>\n",
       "</div>"
      ],
      "text/plain": [
       "   Unnamed: 0  Patient   Voxels      ADCmean    ADCvariance       ADCsd  \\\n",
       "0           0        1  22043.0  1036.693281  103159.047102  321.183821   \n",
       "1           1       11  21410.0   868.918169  201928.592930  449.364655   \n",
       "2           2       14   2012.0   842.284791  187625.303089  433.157365   \n",
       "3           3       19   2823.0   538.541622   99829.517839  315.958095   \n",
       "4           4        2    285.0  1022.119298  120040.245417  346.468246   \n",
       "\n",
       "   ADCmedian   ADCskew   ADCkurt  ADC5p  ...     SUV95p     Histologie  G  cT  \\\n",
       "0      991.0  0.444463  1.458258  554.0  ...  23.458490  Adenokarzinom  x  2b   \n",
       "1      963.0 -0.100914 -0.485107  100.0  ...  20.653860  Adenokarzinom  3   4   \n",
       "2      894.5 -0.131017 -0.676121   96.0  ...   8.332395  Adenokarzinom  3  1b   \n",
       "3      527.0  0.240297 -0.775088   65.1  ...   6.944930  Adenokarzinom  3  1c   \n",
       "4     1085.0 -0.682781  0.021971  333.6  ...   2.997654  Adenokarzinom  2  1b   \n",
       "\n",
       "   cN  cM  pT  pN   pM Stadium  \n",
       "0   2  1a   3   0    -      2B  \n",
       "1   3  1c   -   -    -      4B  \n",
       "2   0   0  1b   0    0      1A  \n",
       "3   1   0  1c   1  NaN      2B  \n",
       "4   1   0   1   0    -      1A  \n",
       "\n",
       "[5 rows x 28 columns]"
      ]
     },
     "execution_count": 47,
     "metadata": {},
     "output_type": "execute_result"
    }
   ],
   "source": [
    "path = \"/home/mfmezger/data/AI_Clinic_Data/adeno.csv\"\n",
    "\n",
    "df = pd.read_csv(path,)\n",
    "\n",
    "df.head()"
   ]
  },
  {
   "cell_type": "code",
   "execution_count": 48,
   "metadata": {},
   "outputs": [],
   "source": [
    "#df = df.drop([\"Unnamed: 0\", \"Patient\", \"Voxels\", \"Histologie\"], axis=1)\n",
    "df = df.drop([\"Unnamed: 0\", \"Patient\", \"Voxels\", \"G\", \"cT\", \"cN\", \"cM\", \"pT\", \"pN\", \"pM\", \"Histologie\"], axis=1)"
   ]
  },
  {
   "cell_type": "code",
   "execution_count": 49,
   "metadata": {},
   "outputs": [
    {
     "data": {
      "text/html": [
       "<div>\n",
       "<style scoped>\n",
       "    .dataframe tbody tr th:only-of-type {\n",
       "        vertical-align: middle;\n",
       "    }\n",
       "\n",
       "    .dataframe tbody tr th {\n",
       "        vertical-align: top;\n",
       "    }\n",
       "\n",
       "    .dataframe thead th {\n",
       "        text-align: right;\n",
       "    }\n",
       "</style>\n",
       "<table border=\"1\" class=\"dataframe\">\n",
       "  <thead>\n",
       "    <tr style=\"text-align: right;\">\n",
       "      <th></th>\n",
       "      <th>ADCmean</th>\n",
       "      <th>ADCvariance</th>\n",
       "      <th>ADCsd</th>\n",
       "      <th>ADCmedian</th>\n",
       "      <th>ADCskew</th>\n",
       "      <th>ADCkurt</th>\n",
       "      <th>ADC5p</th>\n",
       "      <th>ADC95p</th>\n",
       "      <th>SUVmean</th>\n",
       "      <th>SUVvariance</th>\n",
       "      <th>SUVsd</th>\n",
       "      <th>SUVmedian</th>\n",
       "      <th>SUVskew</th>\n",
       "      <th>SUVkurt</th>\n",
       "      <th>SUV5p</th>\n",
       "      <th>SUV95p</th>\n",
       "      <th>Stadium</th>\n",
       "    </tr>\n",
       "  </thead>\n",
       "  <tbody>\n",
       "    <tr>\n",
       "      <th>0</th>\n",
       "      <td>1036.693281</td>\n",
       "      <td>103159.047102</td>\n",
       "      <td>321.183821</td>\n",
       "      <td>991.0</td>\n",
       "      <td>0.444463</td>\n",
       "      <td>1.458258</td>\n",
       "      <td>554.0</td>\n",
       "      <td>1634.0</td>\n",
       "      <td>9.245593</td>\n",
       "      <td>59.497800</td>\n",
       "      <td>7.713482</td>\n",
       "      <td>6.556550</td>\n",
       "      <td>0.700088</td>\n",
       "      <td>-0.742164</td>\n",
       "      <td>0.787713</td>\n",
       "      <td>23.458490</td>\n",
       "      <td>2B</td>\n",
       "    </tr>\n",
       "    <tr>\n",
       "      <th>1</th>\n",
       "      <td>868.918169</td>\n",
       "      <td>201928.592930</td>\n",
       "      <td>449.364655</td>\n",
       "      <td>963.0</td>\n",
       "      <td>-0.100914</td>\n",
       "      <td>-0.485107</td>\n",
       "      <td>100.0</td>\n",
       "      <td>1545.0</td>\n",
       "      <td>9.152199</td>\n",
       "      <td>30.889123</td>\n",
       "      <td>5.557798</td>\n",
       "      <td>8.728515</td>\n",
       "      <td>0.773087</td>\n",
       "      <td>0.282314</td>\n",
       "      <td>1.786550</td>\n",
       "      <td>20.653860</td>\n",
       "      <td>4B</td>\n",
       "    </tr>\n",
       "    <tr>\n",
       "      <th>2</th>\n",
       "      <td>842.284791</td>\n",
       "      <td>187625.303089</td>\n",
       "      <td>433.157365</td>\n",
       "      <td>894.5</td>\n",
       "      <td>-0.131017</td>\n",
       "      <td>-0.676121</td>\n",
       "      <td>96.0</td>\n",
       "      <td>1503.0</td>\n",
       "      <td>3.036056</td>\n",
       "      <td>6.379938</td>\n",
       "      <td>2.525854</td>\n",
       "      <td>2.292685</td>\n",
       "      <td>1.176332</td>\n",
       "      <td>0.882571</td>\n",
       "      <td>0.392793</td>\n",
       "      <td>8.332395</td>\n",
       "      <td>1A</td>\n",
       "    </tr>\n",
       "    <tr>\n",
       "      <th>3</th>\n",
       "      <td>538.541622</td>\n",
       "      <td>99829.517839</td>\n",
       "      <td>315.958095</td>\n",
       "      <td>527.0</td>\n",
       "      <td>0.240297</td>\n",
       "      <td>-0.775088</td>\n",
       "      <td>65.1</td>\n",
       "      <td>1056.0</td>\n",
       "      <td>4.022798</td>\n",
       "      <td>2.616072</td>\n",
       "      <td>1.617428</td>\n",
       "      <td>3.705260</td>\n",
       "      <td>0.561963</td>\n",
       "      <td>-0.559164</td>\n",
       "      <td>1.872217</td>\n",
       "      <td>6.944930</td>\n",
       "      <td>2B</td>\n",
       "    </tr>\n",
       "    <tr>\n",
       "      <th>4</th>\n",
       "      <td>1022.119298</td>\n",
       "      <td>120040.245417</td>\n",
       "      <td>346.468246</td>\n",
       "      <td>1085.0</td>\n",
       "      <td>-0.682781</td>\n",
       "      <td>0.021971</td>\n",
       "      <td>333.6</td>\n",
       "      <td>1521.2</td>\n",
       "      <td>1.966807</td>\n",
       "      <td>0.363642</td>\n",
       "      <td>0.603028</td>\n",
       "      <td>1.986070</td>\n",
       "      <td>0.057758</td>\n",
       "      <td>-0.716479</td>\n",
       "      <td>0.966702</td>\n",
       "      <td>2.997654</td>\n",
       "      <td>1A</td>\n",
       "    </tr>\n",
       "  </tbody>\n",
       "</table>\n",
       "</div>"
      ],
      "text/plain": [
       "       ADCmean    ADCvariance       ADCsd  ADCmedian   ADCskew   ADCkurt  \\\n",
       "0  1036.693281  103159.047102  321.183821      991.0  0.444463  1.458258   \n",
       "1   868.918169  201928.592930  449.364655      963.0 -0.100914 -0.485107   \n",
       "2   842.284791  187625.303089  433.157365      894.5 -0.131017 -0.676121   \n",
       "3   538.541622   99829.517839  315.958095      527.0  0.240297 -0.775088   \n",
       "4  1022.119298  120040.245417  346.468246     1085.0 -0.682781  0.021971   \n",
       "\n",
       "   ADC5p  ADC95p   SUVmean  SUVvariance     SUVsd  SUVmedian   SUVskew  \\\n",
       "0  554.0  1634.0  9.245593    59.497800  7.713482   6.556550  0.700088   \n",
       "1  100.0  1545.0  9.152199    30.889123  5.557798   8.728515  0.773087   \n",
       "2   96.0  1503.0  3.036056     6.379938  2.525854   2.292685  1.176332   \n",
       "3   65.1  1056.0  4.022798     2.616072  1.617428   3.705260  0.561963   \n",
       "4  333.6  1521.2  1.966807     0.363642  0.603028   1.986070  0.057758   \n",
       "\n",
       "    SUVkurt     SUV5p     SUV95p Stadium  \n",
       "0 -0.742164  0.787713  23.458490      2B  \n",
       "1  0.282314  1.786550  20.653860      4B  \n",
       "2  0.882571  0.392793   8.332395      1A  \n",
       "3 -0.559164  1.872217   6.944930      2B  \n",
       "4 -0.716479  0.966702   2.997654      1A  "
      ]
     },
     "execution_count": 49,
     "metadata": {},
     "output_type": "execute_result"
    }
   ],
   "source": [
    "df.head()"
   ]
  },
  {
   "cell_type": "code",
   "execution_count": 50,
   "metadata": {},
   "outputs": [
    {
     "data": {
      "text/plain": [
       "(16, 17)"
      ]
     },
     "execution_count": 50,
     "metadata": {},
     "output_type": "execute_result"
    }
   ],
   "source": [
    "df.shape"
   ]
  },
  {
   "cell_type": "markdown",
   "metadata": {},
   "source": [
    "# Multidimensional Scaling"
   ]
  },
  {
   "cell_type": "code",
   "execution_count": 51,
   "metadata": {},
   "outputs": [],
   "source": [
    "from sklearn.manifold import MDS\n",
    "from sklearn.metrics import euclidean_distances"
   ]
  },
  {
   "cell_type": "code",
   "execution_count": 52,
   "metadata": {},
   "outputs": [],
   "source": [
    "y = df['Stadium']\n",
    "X = df.drop([\"Stadium\"], axis=1)\n",
    "X = preprocessing.normalize(X)\n",
    "#X = np.array(X)"
   ]
  },
  {
   "cell_type": "code",
   "execution_count": 53,
   "metadata": {},
   "outputs": [],
   "source": [
    "similarities = euclidean_distances(X)\n",
    "\n",
    "\n",
    "seed = np.random.RandomState(seed=3)\n",
    "\n",
    "mds = MDS(n_components=2, max_iter=5000, eps=1e-12, random_state=seed,\n",
    "                   n_init=10,\n",
    "                   dissimilarity=\"precomputed\", n_jobs=1, metric=False)\n",
    "pos = mds.fit_transform(similarities)"
   ]
  },
  {
   "cell_type": "code",
   "execution_count": 54,
   "metadata": {},
   "outputs": [],
   "source": [
    "df[\"Stadium\"].head()\n",
    "\n",
    "\n",
    "a = df.index[df['Stadium'] == \"2B\"].tolist()\n",
    "b = df.index[df['Stadium'] == \"4B\"].tolist()\n",
    "c = df.index[df['Stadium'] == \"1A\"].tolist()\n",
    "d = df.index[df['Stadium'] == \"4A\"].tolist()\n",
    "e = df.index[df['Stadium'] == \"3B\"].tolist()\n"
   ]
  },
  {
   "cell_type": "code",
   "execution_count": 55,
   "metadata": {},
   "outputs": [
    {
     "name": "stderr",
     "output_type": "stream",
     "text": [
      "/tmp/ipykernel_22865/1238995354.py:27: RuntimeWarning: divide by zero encountered in true_divide\n",
      "  similarities = similarities.max() / similarities * 100\n"
     ]
    },
    {
     "data": {
      "image/png": "[encoded data removed]",
      "text/plain": [
       "<Figure size 432x288 with 1 Axes>"
      ]
     },
     "metadata": {
      "needs_background": "light"
     },
     "output_type": "display_data"
    }
   ],
   "source": [
    "\n",
    "# Plot\n",
    "\n",
    "from matplotlib import pyplot as plt\n",
    "from matplotlib.collections import LineCollection\n",
    "import matplotlib.cm as cm\n",
    "\n",
    "\n",
    "fig = plt.figure(1)\n",
    "ax = plt.axes([0., 0., 1., 1.])\n",
    "\n",
    "s = 100\n",
    "\n",
    "# Type of tumor\n",
    "# todo automate this step\n",
    "plt.scatter(pos[a, 0], pos[a, 1], s=s, c='r', marker='o', label='2B')\n",
    "#plt.scatter(pos[a, 0], pos[a, 1], color='navy', alpha=1.0, s=s, lw=1, label='1')\n",
    "#plt.scatter(pos[b, 0], pos[b, 1], color='turquoise', alpha=1.0, s=s, lw=1, label='2')\n",
    "#plt.scatter(pos[a, 0], pos[a, 1], color='navy', alpha=1.0, s=s, lw=1, label='2B')\n",
    "plt.scatter(pos[b, 0], pos[b, 1], color='turquoise', alpha=1.0, s=s, lw=1, label='4B')\n",
    "plt.scatter(pos[c, 0], pos[c, 1], color='yellow', alpha=1.0, s=s, lw=1, label='1A')\n",
    "plt.scatter(pos[d, 0], pos[d, 1], color='black', alpha=1.0, s=s, lw=1, label='4A')\n",
    "plt.scatter(pos[e, 0], pos[e, 1], color='gray', alpha=1.0, s=s, lw=1, label='3B')\n",
    "\n",
    "\n",
    "plt.legend(scatterpoints=1, loc=5, shadow=False)\n",
    "\n",
    "similarities = similarities.max() / similarities * 100\n",
    "similarities[np.isinf(similarities)] = 0\n",
    "plt.show()"
   ]
  },
  {
   "cell_type": "code",
   "execution_count": 59,
   "metadata": {},
   "outputs": [],
   "source": [
    "def visualize_results(prediction, test):\n",
    "\n",
    "    cm = confusion_matrix(test, prediction)\n",
    "\n",
    "\n",
    "    score01 = precision_score(test, prediction, average=None)\n",
    "\n",
    "    print(\"Precision Score Klasse: \")\n",
    "    print(score01)\n",
    "\n",
    "    score01 = classification_report(test, prediction)\n",
    "\n",
    "    print(\"Classification Report: \")\n",
    "    print(score01)\n",
    "    \n",
    "\n",
    "    return cm"
   ]
  },
  {
   "cell_type": "code",
   "execution_count": 60,
   "metadata": {},
   "outputs": [],
   "source": [
    "def calc_confusion_matrix(prediction, test):\n",
    "    cm = confusion_matrix(test, prediction)\n",
    "    disp = ConfusionMatrixDisplay(confusion_matrix=cm,)\n",
    "    disp.plot(cmap=\"Blues\")"
   ]
  },
  {
   "cell_type": "code",
   "execution_count": 61,
   "metadata": {},
   "outputs": [
    {
     "ename": "ValueError",
     "evalue": "The least populated class in y has only 1 member, which is too few. The minimum number of groups for any class cannot be less than 2.",
     "output_type": "error",
     "traceback": [
      "\u001b[0;31m---------------------------------------------------------------------------\u001b[0m",
      "\u001b[0;31mValueError\u001b[0m                                Traceback (most recent call last)",
      "\u001b[0;32m/tmp/ipykernel_22865/1455701380.py\u001b[0m in \u001b[0;36m<module>\u001b[0;34m\u001b[0m\n\u001b[1;32m      1\u001b[0m \u001b[0mX\u001b[0m \u001b[0;34m=\u001b[0m \u001b[0mpreprocessing\u001b[0m\u001b[0;34m.\u001b[0m\u001b[0mnormalize\u001b[0m\u001b[0;34m(\u001b[0m\u001b[0mX\u001b[0m\u001b[0;34m)\u001b[0m\u001b[0;34m\u001b[0m\u001b[0;34m\u001b[0m\u001b[0m\n\u001b[0;32m----> 2\u001b[0;31m \u001b[0mX_train\u001b[0m\u001b[0;34m,\u001b[0m \u001b[0mX_test\u001b[0m\u001b[0;34m,\u001b[0m \u001b[0my_train\u001b[0m\u001b[0;34m,\u001b[0m \u001b[0my_test\u001b[0m \u001b[0;34m=\u001b[0m \u001b[0mtrain_test_split\u001b[0m\u001b[0;34m(\u001b[0m\u001b[0mX\u001b[0m\u001b[0;34m,\u001b[0m \u001b[0my\u001b[0m\u001b[0;34m,\u001b[0m \u001b[0mtest_size\u001b[0m\u001b[0;34m=\u001b[0m\u001b[0;36m0.3\u001b[0m\u001b[0;34m,\u001b[0m \u001b[0mrandom_state\u001b[0m\u001b[0;34m=\u001b[0m\u001b[0;36m11\u001b[0m\u001b[0;34m,\u001b[0m \u001b[0mstratify\u001b[0m\u001b[0;34m=\u001b[0m\u001b[0my\u001b[0m\u001b[0;34m)\u001b[0m\u001b[0;34m\u001b[0m\u001b[0;34m\u001b[0m\u001b[0m\n\u001b[0m\u001b[1;32m      3\u001b[0m \u001b[0mnp\u001b[0m\u001b[0;34m.\u001b[0m\u001b[0munique\u001b[0m\u001b[0;34m(\u001b[0m\u001b[0my\u001b[0m\u001b[0;34m,\u001b[0m \u001b[0mreturn_counts\u001b[0m\u001b[0;34m=\u001b[0m\u001b[0;32mTrue\u001b[0m\u001b[0;34m)\u001b[0m\u001b[0;34m\u001b[0m\u001b[0;34m\u001b[0m\u001b[0m\n",
      "\u001b[0;32m~/anaconda3/envs/lymph-nodule/lib/python3.8/site-packages/sklearn/model_selection/_split.py\u001b[0m in \u001b[0;36mtrain_test_split\u001b[0;34m(test_size, train_size, random_state, shuffle, stratify, *arrays)\u001b[0m\n\u001b[1;32m   2441\u001b[0m         \u001b[0mcv\u001b[0m \u001b[0;34m=\u001b[0m \u001b[0mCVClass\u001b[0m\u001b[0;34m(\u001b[0m\u001b[0mtest_size\u001b[0m\u001b[0;34m=\u001b[0m\u001b[0mn_test\u001b[0m\u001b[0;34m,\u001b[0m \u001b[0mtrain_size\u001b[0m\u001b[0;34m=\u001b[0m\u001b[0mn_train\u001b[0m\u001b[0;34m,\u001b[0m \u001b[0mrandom_state\u001b[0m\u001b[0;34m=\u001b[0m\u001b[0mrandom_state\u001b[0m\u001b[0;34m)\u001b[0m\u001b[0;34m\u001b[0m\u001b[0;34m\u001b[0m\u001b[0m\n\u001b[1;32m   2442\u001b[0m \u001b[0;34m\u001b[0m\u001b[0m\n\u001b[0;32m-> 2443\u001b[0;31m         \u001b[0mtrain\u001b[0m\u001b[0;34m,\u001b[0m \u001b[0mtest\u001b[0m \u001b[0;34m=\u001b[0m \u001b[0mnext\u001b[0m\u001b[0;34m(\u001b[0m\u001b[0mcv\u001b[0m\u001b[0;34m.\u001b[0m\u001b[0msplit\u001b[0m\u001b[0;34m(\u001b[0m\u001b[0mX\u001b[0m\u001b[0;34m=\u001b[0m\u001b[0marrays\u001b[0m\u001b[0;34m[\u001b[0m\u001b[0;36m0\u001b[0m\u001b[0;34m]\u001b[0m\u001b[0;34m,\u001b[0m \u001b[0my\u001b[0m\u001b[0;34m=\u001b[0m\u001b[0mstratify\u001b[0m\u001b[0;34m)\u001b[0m\u001b[0;34m)\u001b[0m\u001b[0;34m\u001b[0m\u001b[0;34m\u001b[0m\u001b[0m\n\u001b[0m\u001b[1;32m   2444\u001b[0m \u001b[0;34m\u001b[0m\u001b[0m\n\u001b[1;32m   2445\u001b[0m     return list(\n",
      "\u001b[0;32m~/anaconda3/envs/lymph-nodule/lib/python3.8/site-packages/sklearn/model_selection/_split.py\u001b[0m in \u001b[0;36msplit\u001b[0;34m(self, X, y, groups)\u001b[0m\n\u001b[1;32m   1598\u001b[0m         \"\"\"\n\u001b[1;32m   1599\u001b[0m         \u001b[0mX\u001b[0m\u001b[0;34m,\u001b[0m \u001b[0my\u001b[0m\u001b[0;34m,\u001b[0m \u001b[0mgroups\u001b[0m \u001b[0;34m=\u001b[0m \u001b[0mindexable\u001b[0m\u001b[0;34m(\u001b[0m\u001b[0mX\u001b[0m\u001b[0;34m,\u001b[0m \u001b[0my\u001b[0m\u001b[0;34m,\u001b[0m \u001b[0mgroups\u001b[0m\u001b[0;34m)\u001b[0m\u001b[0;34m\u001b[0m\u001b[0;34m\u001b[0m\u001b[0m\n\u001b[0;32m-> 1600\u001b[0;31m         \u001b[0;32mfor\u001b[0m \u001b[0mtrain\u001b[0m\u001b[0;34m,\u001b[0m \u001b[0mtest\u001b[0m \u001b[0;32min\u001b[0m \u001b[0mself\u001b[0m\u001b[0;34m.\u001b[0m\u001b[0m_iter_indices\u001b[0m\u001b[0;34m(\u001b[0m\u001b[0mX\u001b[0m\u001b[0;34m,\u001b[0m \u001b[0my\u001b[0m\u001b[0;34m,\u001b[0m \u001b[0mgroups\u001b[0m\u001b[0;34m)\u001b[0m\u001b[0;34m:\u001b[0m\u001b[0;34m\u001b[0m\u001b[0;34m\u001b[0m\u001b[0m\n\u001b[0m\u001b[1;32m   1601\u001b[0m             \u001b[0;32myield\u001b[0m \u001b[0mtrain\u001b[0m\u001b[0;34m,\u001b[0m \u001b[0mtest\u001b[0m\u001b[0;34m\u001b[0m\u001b[0;34m\u001b[0m\u001b[0m\n\u001b[1;32m   1602\u001b[0m \u001b[0;34m\u001b[0m\u001b[0m\n",
      "\u001b[0;32m~/anaconda3/envs/lymph-nodule/lib/python3.8/site-packages/sklearn/model_selection/_split.py\u001b[0m in \u001b[0;36m_iter_indices\u001b[0;34m(self, X, y, groups)\u001b[0m\n\u001b[1;32m   1938\u001b[0m         \u001b[0mclass_counts\u001b[0m \u001b[0;34m=\u001b[0m \u001b[0mnp\u001b[0m\u001b[0;34m.\u001b[0m\u001b[0mbincount\u001b[0m\u001b[0;34m(\u001b[0m\u001b[0my_indices\u001b[0m\u001b[0;34m)\u001b[0m\u001b[0;34m\u001b[0m\u001b[0;34m\u001b[0m\u001b[0m\n\u001b[1;32m   1939\u001b[0m         \u001b[0;32mif\u001b[0m \u001b[0mnp\u001b[0m\u001b[0;34m.\u001b[0m\u001b[0mmin\u001b[0m\u001b[0;34m(\u001b[0m\u001b[0mclass_counts\u001b[0m\u001b[0;34m)\u001b[0m \u001b[0;34m<\u001b[0m \u001b[0;36m2\u001b[0m\u001b[0;34m:\u001b[0m\u001b[0;34m\u001b[0m\u001b[0;34m\u001b[0m\u001b[0m\n\u001b[0;32m-> 1940\u001b[0;31m             raise ValueError(\n\u001b[0m\u001b[1;32m   1941\u001b[0m                 \u001b[0;34m\"The least populated class in y has only 1\"\u001b[0m\u001b[0;34m\u001b[0m\u001b[0;34m\u001b[0m\u001b[0m\n\u001b[1;32m   1942\u001b[0m                 \u001b[0;34m\" member, which is too few. The minimum\"\u001b[0m\u001b[0;34m\u001b[0m\u001b[0;34m\u001b[0m\u001b[0m\n",
      "\u001b[0;31mValueError\u001b[0m: The least populated class in y has only 1 member, which is too few. The minimum number of groups for any class cannot be less than 2."
     ]
    }
   ],
   "source": [
    "X = preprocessing.normalize(X)\n",
    "X_train, X_test, y_train, y_test = train_test_split(X, y, test_size=0.3, random_state=11, stratify=y)\n",
    "np.unique(y, return_counts=True)"
   ]
  },
  {
   "cell_type": "code",
   "execution_count": 57,
   "metadata": {},
   "outputs": [
    {
     "data": {
      "text/plain": [
       "KNeighborsClassifier(n_neighbors=6)"
      ]
     },
     "execution_count": 57,
     "metadata": {},
     "output_type": "execute_result"
    }
   ],
   "source": [
    "clf = KNeighborsClassifier(n_neighbors=6)\n",
    "clf.fit(X_train, y_train)"
   ]
  },
  {
   "cell_type": "code",
   "execution_count": 58,
   "metadata": {},
   "outputs": [
    {
     "name": "stdout",
     "output_type": "stream",
     "text": [
      "Precision Score Klasse: \n",
      "[0.4 0. ]\n",
      "Classification Report: \n",
      "              precision    recall  f1-score   support\n",
      "\n",
      "           1       0.40      1.00      0.57         2\n",
      "           2       0.00      0.00      0.00         3\n",
      "\n",
      "    accuracy                           0.40         5\n",
      "   macro avg       0.20      0.50      0.29         5\n",
      "weighted avg       0.16      0.40      0.23         5\n",
      "\n"
     ]
    },
    {
     "name": "stderr",
     "output_type": "stream",
     "text": [
      "/home/mfmezger/anaconda3/envs/lymph-nodule/lib/python3.8/site-packages/sklearn/metrics/_classification.py:1308: UndefinedMetricWarning: Precision is ill-defined and being set to 0.0 in labels with no predicted samples. Use `zero_division` parameter to control this behavior.\n",
      "  _warn_prf(average, modifier, msg_start, len(result))\n",
      "/home/mfmezger/anaconda3/envs/lymph-nodule/lib/python3.8/site-packages/sklearn/metrics/_classification.py:1308: UndefinedMetricWarning: Precision and F-score are ill-defined and being set to 0.0 in labels with no predicted samples. Use `zero_division` parameter to control this behavior.\n",
      "  _warn_prf(average, modifier, msg_start, len(result))\n",
      "/home/mfmezger/anaconda3/envs/lymph-nodule/lib/python3.8/site-packages/sklearn/metrics/_classification.py:1308: UndefinedMetricWarning: Precision and F-score are ill-defined and being set to 0.0 in labels with no predicted samples. Use `zero_division` parameter to control this behavior.\n",
      "  _warn_prf(average, modifier, msg_start, len(result))\n",
      "/home/mfmezger/anaconda3/envs/lymph-nodule/lib/python3.8/site-packages/sklearn/metrics/_classification.py:1308: UndefinedMetricWarning: Precision and F-score are ill-defined and being set to 0.0 in labels with no predicted samples. Use `zero_division` parameter to control this behavior.\n",
      "  _warn_prf(average, modifier, msg_start, len(result))\n"
     ]
    }
   ],
   "source": [
    "prob01 = clf.predict(X_test)\n",
    "cm = visualize_results(prob01, y_test)"
   ]
  },
  {
   "cell_type": "code",
   "execution_count": 33,
   "metadata": {},
   "outputs": [
    {
     "data": {
      "image/png": "[encoded data removed]",
      "text/plain": [
       "<Figure size 432x288 with 2 Axes>"
      ]
     },
     "metadata": {
      "needs_background": "light"
     },
     "output_type": "display_data"
    }
   ],
   "source": [
    "calc_confusion_matrix(prob01, y_test)"
   ]
  },
  {
   "cell_type": "code",
   "execution_count": 34,
   "metadata": {},
   "outputs": [
    {
     "data": {
      "text/plain": [
       "RandomForestClassifier(max_depth=4, random_state=0)"
      ]
     },
     "execution_count": 34,
     "metadata": {},
     "output_type": "execute_result"
    }
   ],
   "source": [
    "from sklearn.ensemble import RandomForestClassifier\n",
    "clf = RandomForestClassifier(max_depth=4, random_state=0)\n",
    "clf.fit(X_train, y_train)"
   ]
  },
  {
   "cell_type": "code",
   "execution_count": 35,
   "metadata": {},
   "outputs": [
    {
     "name": "stdout",
     "output_type": "stream",
     "text": [
      "Precision Score Klasse: \n",
      "[0.25 0.  ]\n",
      "Classification Report: \n",
      "              precision    recall  f1-score   support\n",
      "\n",
      "           1       0.25      0.50      0.33         2\n",
      "           2       0.00      0.00      0.00         3\n",
      "\n",
      "    accuracy                           0.20         5\n",
      "   macro avg       0.12      0.25      0.17         5\n",
      "weighted avg       0.10      0.20      0.13         5\n",
      "\n"
     ]
    }
   ],
   "source": [
    "prob01 = clf.predict(X_test)\n",
    "cm = visualize_results(prob01, y_test)"
   ]
  },
  {
   "cell_type": "code",
   "execution_count": 36,
   "metadata": {},
   "outputs": [],
   "source": [
    "# skewness + kurtosis intervall sehr eng.\n",
    "#sns.set(style=\"ticks\")\n",
    "#cmap =sns.color_palette('tab10', n_colors=3)\n",
    "#sns.pairplot(df, hue=\"Stadium\")"
   ]
  },
  {
   "cell_type": "markdown",
   "metadata": {},
   "source": [
    "# Clustering"
   ]
  },
  {
   "cell_type": "code",
   "execution_count": 37,
   "metadata": {},
   "outputs": [],
   "source": [
    "from sklearn.cluster import KMeans"
   ]
  },
  {
   "cell_type": "code",
   "execution_count": 124,
   "metadata": {},
   "outputs": [],
   "source": [
    "# dataframe to nparray\n",
    "y = df[\"Stadium\"]\n",
    "X = df.drop([\"Stadium\"], axis=1)\n",
    "X = preprocessing.normalize(X)\n"
   ]
  },
  {
   "cell_type": "code",
   "execution_count": 125,
   "metadata": {},
   "outputs": [],
   "source": [
    "\n",
    "\n",
    "\n",
    "km = KMeans(\n",
    "    n_clusters=2, init='random',\n",
    "    n_init=10, max_iter=300, \n",
    "    tol=1e-04, random_state=0\n",
    ")\n",
    "y_km = km.fit_predict(X)"
   ]
  },
  {
   "cell_type": "code",
   "execution_count": 126,
   "metadata": {},
   "outputs": [
    {
     "data": {
      "image/png": "[encoded data removed]",
      "text/plain": [
       "<Figure size 432x288 with 1 Axes>"
      ]
     },
     "metadata": {},
     "output_type": "display_data"
    }
   ],
   "source": [
    "# plot the 3 clusters\n",
    "plt.scatter(\n",
    "    X[y_km == 0, 0], X[y_km == 0, 1],\n",
    "    s=50, c='lightgreen',\n",
    "    marker='s', edgecolor='black',\n",
    "    label='cluster 1'\n",
    ")\n",
    "\n",
    "plt.scatter(\n",
    "    X[y_km == 1, 0], X[y_km == 1, 1],\n",
    "    s=50, c='orange',\n",
    "    marker='o', edgecolor='black',\n",
    "    label='cluster 2'\n",
    ")\n",
    "\n",
    "\n",
    "# plot the centroids\n",
    "plt.scatter(\n",
    "    km.cluster_centers_[:, 0], km.cluster_centers_[:, 1],\n",
    "    s=250, marker='*',\n",
    "    c='red', edgecolor='black',\n",
    "    label='centroids'\n",
    ")\n",
    "plt.legend(scatterpoints=1)\n",
    "plt.grid()\n",
    "plt.show()"
   ]
  },
  {
   "cell_type": "code",
   "execution_count": 127,
   "metadata": {},
   "outputs": [],
   "source": [
    "from scipy.cluster.hierarchy import dendrogram\n",
    "from sklearn.cluster import AgglomerativeClustering\n",
    "clustering = AgglomerativeClustering().fit_predict(X)"
   ]
  },
  {
   "cell_type": "code",
   "execution_count": 128,
   "metadata": {},
   "outputs": [],
   "source": [
    "def plot_dendrogram(model, **kwargs):\n",
    "    # Create linkage matrix and then plot the dendrogram\n",
    "\n",
    "    # create the counts of samples under each node\n",
    "    counts = np.zeros(model.children_.shape[0])\n",
    "    n_samples = len(model.labels_)\n",
    "    for i, merge in enumerate(model.children_):\n",
    "        current_count = 0\n",
    "        for child_idx in merge:\n",
    "            if child_idx < n_samples:\n",
    "                current_count += 1  # leaf node\n",
    "            else:\n",
    "                current_count += counts[child_idx - n_samples]\n",
    "        counts[i] = current_count\n",
    "\n",
    "    linkage_matrix = np.column_stack(\n",
    "        [model.children_, model.distances_, counts]\n",
    "    ).astype(float)\n",
    "\n",
    "    # Plot the corresponding dendrogram\n",
    "    dendrogram(linkage_matrix, **kwargs)"
   ]
  },
  {
   "cell_type": "code",
   "execution_count": 129,
   "metadata": {},
   "outputs": [],
   "source": [
    "model = AgglomerativeClustering(distance_threshold=0, n_clusters=None)\n",
    "\n",
    "model = model.fit(X)"
   ]
  },
  {
   "cell_type": "code",
   "execution_count": 130,
   "metadata": {},
   "outputs": [
    {
     "data": {
      "image/png": "[encoded data removed]",
      "text/plain": [
       "<Figure size 432x288 with 1 Axes>"
      ]
     },
     "metadata": {},
     "output_type": "display_data"
    }
   ],
   "source": [
    "plot_dendrogram(model, truncate_mode=\"level\", p=3)"
   ]
  },
  {
   "cell_type": "code",
   "execution_count": 84,
   "metadata": {},
   "outputs": [
    {
     "data": {
      "text/plain": [
       "0     1\n",
       "1     2\n",
       "2     1\n",
       "3     1\n",
       "4     1\n",
       "5     1\n",
       "6     2\n",
       "7     1\n",
       "8     2\n",
       "9     1\n",
       "10    2\n",
       "11    1\n",
       "12    2\n",
       "13    2\n",
       "14    2\n",
       "Name: Stadium, dtype: int64"
      ]
     },
     "execution_count": 84,
     "metadata": {},
     "output_type": "execute_result"
    }
   ],
   "source": [
    "df[\"Stadium\"].head(15)"
   ]
  },
  {
   "cell_type": "code",
   "execution_count": null,
   "metadata": {},
   "outputs": [],
   "source": []
  }
 ],
 "metadata": {
  "interpreter": {
   "hash": "11ca4491af515a21cc55b78b4f51522c2a5cbde6f8456857c5ed9ba1c96e5755"
  },
  "kernelspec": {
   "display_name": "Python 3.8.11 64-bit ('lymph-nodule': conda)",
   "name": "python3"
  },
  "language_info": {
   "codemirror_mode": {
    "name": "ipython",
    "version": 3
   },
   "file_extension": ".py",
   "mimetype": "text/x-python",
   "name": "python",
   "nbconvert_exporter": "python",
   "pygments_lexer": "ipython3",
   "version": "3.8.11"
  }
 },
 "nbformat": 4,
 "nbformat_minor": 4
}
